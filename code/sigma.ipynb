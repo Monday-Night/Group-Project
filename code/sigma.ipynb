{
 "cells": [
  {
   "cell_type": "code",
   "execution_count": 1,
   "metadata": {},
   "outputs": [],
   "source": [
    "from bs4 import BeautifulSoup\n",
    "import requests \n",
    "import pandas as pd"
   ]
  },
  {
   "cell_type": "code",
   "execution_count": 2,
   "metadata": {},
   "outputs": [
    {
     "data": {
      "text/plain": [
       "<Response [200]>"
      ]
     },
     "execution_count": 2,
     "metadata": {},
     "output_type": "execute_result"
    }
   ],
   "source": [
    "url = 'https://datajournalism.com/awards'\n",
    "page = requests.get(url)\n",
    "page"
   ]
  },
  {
   "cell_type": "code",
   "execution_count": 3,
   "metadata": {},
   "outputs": [],
   "source": [
    "soup = BeautifulSoup(page.content, 'html.parser')"
   ]
  },
  {
   "cell_type": "code",
   "execution_count": 4,
   "metadata": {},
   "outputs": [],
   "source": [
    "ul=soup.find_all('ul')"
   ]
  },
  {
   "cell_type": "code",
   "execution_count": 5,
   "metadata": {},
   "outputs": [],
   "source": [
    "url_=[]\n",
    "for i in range(2,14):\n",
    "    url=ul[i].find('a')\n",
    "    url_.append(url.text)"
   ]
  },
  {
   "cell_type": "code",
   "execution_count": 6,
   "metadata": {},
   "outputs": [
    {
     "data": {
      "text/plain": [
       "'Chris Ingraham, Washington Post'"
      ]
     },
     "execution_count": 6,
     "metadata": {},
     "output_type": "execute_result"
    }
   ],
   "source": [
    "url_.pop(4)"
   ]
  },
  {
   "cell_type": "code",
   "execution_count": 7,
   "metadata": {},
   "outputs": [],
   "source": [
    "award=soup.find_all('h4')"
   ]
  },
  {
   "cell_type": "code",
   "execution_count": 8,
   "metadata": {},
   "outputs": [],
   "source": [
    "award_=[]\n",
    "for i in range(7,18):\n",
    "    award_.append(award[i].text)"
   ]
  },
  {
   "cell_type": "code",
   "execution_count": 9,
   "metadata": {},
   "outputs": [],
   "source": [
    "title=soup.find_all('h5')"
   ]
  },
  {
   "cell_type": "code",
   "execution_count": 10,
   "metadata": {},
   "outputs": [],
   "source": [
    "title_=[]\n",
    "for i in range(3,14):\n",
    "    title_u=title[i].find('u')\n",
    "    title_.append(title_u.text)"
   ]
  },
  {
   "cell_type": "code",
   "execution_count": 11,
   "metadata": {},
   "outputs": [],
   "source": [
    "for i in [0,2,3,4,6,9,10]:\n",
    "    title_[i]=title_[i].replace('Winner: ','')\n",
    "for i in [1,5]:\n",
    "    title_[i]=title_[i].replace('Honorable Mention: ','')\n",
    "for i in [7,8]:\n",
    "    title_[i]=title_[i].replace('Co-winner: ','')"
   ]
  },
  {
   "cell_type": "code",
   "execution_count": 12,
   "metadata": {},
   "outputs": [],
   "source": [
    "sigma = pd.DataFrame({'Award':award_,'Title':title_,'URL':url_})"
   ]
  },
  {
   "cell_type": "code",
   "execution_count": 13,
   "metadata": {},
   "outputs": [
    {
     "data": {
      "text/html": [
       "<div>\n",
       "<style scoped>\n",
       "    .dataframe tbody tr th:only-of-type {\n",
       "        vertical-align: middle;\n",
       "    }\n",
       "\n",
       "    .dataframe tbody tr th {\n",
       "        vertical-align: top;\n",
       "    }\n",
       "\n",
       "    .dataframe thead th {\n",
       "        text-align: right;\n",
       "    }\n",
       "</style>\n",
       "<table border=\"1\" class=\"dataframe\">\n",
       "  <thead>\n",
       "    <tr style=\"text-align: right;\">\n",
       "      <th></th>\n",
       "      <th>Award</th>\n",
       "      <th>Title</th>\n",
       "      <th>URL</th>\n",
       "    </tr>\n",
       "  </thead>\n",
       "  <tbody>\n",
       "    <tr>\n",
       "      <th>0</th>\n",
       "      <td>Best data-driven reporting (large newsrooms)</td>\n",
       "      <td>The Troika Laundromat</td>\n",
       "      <td>https://www.occrp.org/en/troikalaundromat/vast...</td>\n",
       "    </tr>\n",
       "    <tr>\n",
       "      <th>1</th>\n",
       "      <td>Best data-driven reporting (large newsrooms)</td>\n",
       "      <td>Copy, Paste, Legislate</td>\n",
       "      <td>https://www.usatoday.com/in-depth/news/investi...</td>\n",
       "    </tr>\n",
       "    <tr>\n",
       "      <th>2</th>\n",
       "      <td>Best data-driven reporting (small newsrooms)</td>\n",
       "      <td>Made in France</td>\n",
       "      <td>https://made-in-france.disclose.ngo/en/</td>\n",
       "    </tr>\n",
       "    <tr>\n",
       "      <th>3</th>\n",
       "      <td>Best news application</td>\n",
       "      <td>HOT DISINFO FROM RUSSIA (Topic radar)</td>\n",
       "      <td>https://topic-radar.texty.org.ua</td>\n",
       "    </tr>\n",
       "    <tr>\n",
       "      <th>4</th>\n",
       "      <td>Best visualization (large newsrooms)</td>\n",
       "      <td>See How the World's Most Polluted Air Compares...</td>\n",
       "      <td>https://www.nytimes.com/interactive/2019/12/02...</td>\n",
       "    </tr>\n",
       "    <tr>\n",
       "      <th>5</th>\n",
       "      <td>Best visualization (large newsrooms)</td>\n",
       "      <td>Why your smartphone is causing you ‘text neck'...</td>\n",
       "      <td>https://multimedia.scmp.com/lifestyle/article/...</td>\n",
       "    </tr>\n",
       "    <tr>\n",
       "      <th>6</th>\n",
       "      <td>Best visualization (small newsrooms)</td>\n",
       "      <td>Danish scam</td>\n",
       "      <td>https://pointer.kro-ncrv.nl/artikelen/het-verh...</td>\n",
       "    </tr>\n",
       "    <tr>\n",
       "      <th>7</th>\n",
       "      <td>Innovation (large newsrooms)</td>\n",
       "      <td>AP DataKit: an adaptable data project organiza...</td>\n",
       "      <td>http://datakit.ap.org/</td>\n",
       "    </tr>\n",
       "    <tr>\n",
       "      <th>8</th>\n",
       "      <td>Innovation (large newsrooms)</td>\n",
       "      <td>Zones of Silence</td>\n",
       "      <td>https://zonas-de-silencio.eluniversal.com.mx/</td>\n",
       "    </tr>\n",
       "    <tr>\n",
       "      <th>9</th>\n",
       "      <td>Innovation (small newsrooms)</td>\n",
       "      <td>Funes: an algorithm to fight corruption</td>\n",
       "      <td>https://ojo-publico.com/especiales/funes/</td>\n",
       "    </tr>\n",
       "    <tr>\n",
       "      <th>10</th>\n",
       "      <td>Open data</td>\n",
       "      <td>TodosLosContratos.mx</td>\n",
       "      <td>https://www.todosloscontratos.mx/</td>\n",
       "    </tr>\n",
       "  </tbody>\n",
       "</table>\n",
       "</div>"
      ],
      "text/plain": [
       "                                           Award  \\\n",
       "0   Best data-driven reporting (large newsrooms)   \n",
       "1   Best data-driven reporting (large newsrooms)   \n",
       "2   Best data-driven reporting (small newsrooms)   \n",
       "3                          Best news application   \n",
       "4           Best visualization (large newsrooms)   \n",
       "5           Best visualization (large newsrooms)   \n",
       "6           Best visualization (small newsrooms)   \n",
       "7                   Innovation (large newsrooms)   \n",
       "8                   Innovation (large newsrooms)   \n",
       "9                   Innovation (small newsrooms)   \n",
       "10                                     Open data   \n",
       "\n",
       "                                                Title  \\\n",
       "0                               The Troika Laundromat   \n",
       "1                              Copy, Paste, Legislate   \n",
       "2                                      Made in France   \n",
       "3               HOT DISINFO FROM RUSSIA (Topic radar)   \n",
       "4   See How the World's Most Polluted Air Compares...   \n",
       "5   Why your smartphone is causing you ‘text neck'...   \n",
       "6                                         Danish scam   \n",
       "7   AP DataKit: an adaptable data project organiza...   \n",
       "8                                    Zones of Silence   \n",
       "9             Funes: an algorithm to fight corruption   \n",
       "10                               TodosLosContratos.mx   \n",
       "\n",
       "                                                  URL  \n",
       "0   https://www.occrp.org/en/troikalaundromat/vast...  \n",
       "1   https://www.usatoday.com/in-depth/news/investi...  \n",
       "2             https://made-in-france.disclose.ngo/en/  \n",
       "3                    https://topic-radar.texty.org.ua  \n",
       "4   https://www.nytimes.com/interactive/2019/12/02...  \n",
       "5   https://multimedia.scmp.com/lifestyle/article/...  \n",
       "6   https://pointer.kro-ncrv.nl/artikelen/het-verh...  \n",
       "7                              http://datakit.ap.org/  \n",
       "8       https://zonas-de-silencio.eluniversal.com.mx/  \n",
       "9           https://ojo-publico.com/especiales/funes/  \n",
       "10                  https://www.todosloscontratos.mx/  "
      ]
     },
     "execution_count": 13,
     "metadata": {},
     "output_type": "execute_result"
    }
   ],
   "source": [
    "sigma"
   ]
  },
  {
   "cell_type": "code",
   "execution_count": 14,
   "metadata": {},
   "outputs": [],
   "source": [
    "sigma.to_csv('sigma.csv')"
   ]
  }
 ],
 "metadata": {
  "kernelspec": {
   "display_name": "Python 3",
   "language": "python",
   "name": "python3"
  },
  "language_info": {
   "codemirror_mode": {
    "name": "ipython",
    "version": 3
   },
   "file_extension": ".py",
   "mimetype": "text/x-python",
   "name": "python",
   "nbconvert_exporter": "python",
   "pygments_lexer": "ipython3",
   "version": "3.8.5"
  }
 },
 "nbformat": 4,
 "nbformat_minor": 4
}
